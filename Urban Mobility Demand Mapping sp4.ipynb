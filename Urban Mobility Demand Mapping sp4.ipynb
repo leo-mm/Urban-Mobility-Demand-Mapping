{
 "cells": [
  {
   "cell_type": "markdown",
   "metadata": {},
   "source": [
    "# Megaline Telecom: Prepaid Plan Revenue Analysis\n",
    "\n",
    "## Project Goal\n",
    "\n",
    "As a Data Analyst for Megaline, I need to compare the two main prepaid plans, **Surf** and **Ultimate**, to determine which one generates more revenue for the company. This analysis, based on a sample of 500 customers in 2018, will guide the commercial department in optimizing their advertising budget."
   ]
  },
  {
   "cell_type": "markdown",
   "metadata": {
    "id": "lnomf-3Xuj8b"
   },
   "source": [
    "## 1. Initialization"
   ]
  },
  {
   "cell_type": "code",
   "execution_count": 1,
   "metadata": {
    "id": "JdJusn5ouj8c"
   },
   "outputs": [],
   "source": [
    "import pandas as pd \n",
    "import numpy as np \n",
    "import matplotlib.pyplot as plt\n",
    "from math import factorial \n",
    "import seaborn as sns\n",
    "from scipy.stats import ttest_ind"
   ]
  },
  {
   "cell_type": "markdown",
   "metadata": {
    "id": "rzqsCrgquj8d"
   },
   "source": [
    "## 2. Data Loading\n",
    "\n",
    "Loading all five necessary datasets from the local directory."
   ]
  },
  {
   "cell_type": "code",
   "execution_count": 2,
   "metadata": {
    "id": "HmzmQRXIuj8e"
   },
   "outputs": [
    {
     "name": "stdout",
     "output_type": "stream",
     "text": [
      "All files loaded successfully.\n"
     ]
    }
   ],
   "source": [
    "# Define the absolute file path based on local machine setup\n",
    "file_path_base = 'C:/Users/Note/Desktop/sprints/sprint 4/'\n",
    "\n",
    "try:\n",
    "    # Load datasets\n",
    "    df_calls = pd.read_csv(file_path_base + 'megaline_calls.csv') \n",
    "    df_internet = pd.read_csv(file_path_base + 'megaline_internet.csv') \n",
    "    df_messages = pd.read_csv(file_path_base + 'megaline_messages.csv') \n",
    "    df_plans = pd.read_csv(file_path_base + 'megaline_plans.csv') \n",
    "    df_users = pd.read_csv(file_path_base + 'megaline_users.csv') \n",
    "    print(\"All files loaded successfully.\")\n",
    "except FileNotFoundError:\n",
    "    print(f\"Error: CSV files not found in '{file_path_base}'. Please check your file path.\")\n",
    "    raise"
   ]
  },
  {
   "cell_type": "markdown",
   "metadata": {
    "id": "XQh-EeiIuj8e"
   },
   "source": [
    "## 3. Data Preprocessing & Cleaning"
   ]
  },
  {
   "cell_type": "markdown",
   "metadata": {
    "id": "TlZUw_Cyuj8f"
   },
   "source": [
    "### 3.1. Plans Table (`df_plans`)\n",
    "\n",
    "Inspecting the plan details and converting the internet allowance from MB to GB for consistency with the billing structure (which charges per GB)."
   ]
  },
  {
   "cell_type": "code",
   "execution_count": 3,
   "metadata": {
    "id": "x9qB5mAOuj8f"
   },
   "outputs": [
    {
     "name": "stdout",
     "output_type": "stream",
     "text": [
      "<class 'pandas.core.frame.DataFrame'>\n",
      "RangeIndex: 2 entries, 0 to 1\n",
      "Data columns (total 8 columns):\n",
      " #   Column                 Non-Null Count  Dtype  \n",
      "---  ------                 --------------  -----  \n",
      " 0   messages_included      2 non-null      int64  \n",
      " 1   mb_per_month_included  2 non-null      int64  \n",
      " 2   minutes_included       2 non-null      int64  \n",
      " 3   usd_monthly_pay        2 non-null      int64  \n",
      " 4   usd_per_gb             2 non-null      int64  \n",
      " 5   usd_per_message        2 non-null      float64\n",
      " 6   usd_per_minute         2 non-null      float64\n",
      " 7   plan_name              2 non-null      object \n",
      "dtypes: float64(2), int64(5), object(1)\n",
      "memory usage: 260.0+ bytes\n",
      "None\n"
     ]
    }
   ],
   "source": [
    "# Initial inspection\n",
    "print(df_plans.info())\n"
   ]
  },
  {
   "cell_type": "code",
   "execution_count": 4,
   "metadata": {
    "id": "9MRo7tyVuj8f"
   },
   "outputs": [
    {
     "name": "stdout",
     "output_type": "stream",
     "text": [
      "   messages_included  mb_per_month_included  minutes_included  \\\n",
      "0                 50                  15360               500   \n",
      "\n",
      "   usd_monthly_pay  usd_per_gb  usd_per_message  usd_per_minute plan_name  \n",
      "0               20          10             0.03            0.03      surf  \n"
     ]
    }
   ],
   "source": [
    "print(df_plans.sample())"
   ]
  },
  {
   "cell_type": "markdown",
   "metadata": {
    "id": "KXtaxmKsuj8f"
   },
   "source": [
    "#### Correcting Data in Plans Table\n",
    "\n",
    "Since Megaline bills per full GB, I'm converting the MB allowance to GB, rounding up to reflect the unit of measurement used for overage charges."
   ]
  },
  {
   "cell_type": "code",
   "execution_count": 5,
   "metadata": {
    "id": "Hen8bhG1uj8g"
   },
   "outputs": [
    {
     "name": "stdout",
     "output_type": "stream",
     "text": [
      "0    15\n",
      "1    30\n",
      "Name: gb_per_month_included, dtype: int32\n"
     ]
    }
   ],
   "source": [
    "df_plans['gb_per_month_included'] = np.ceil(df_plans['mb_per_month_included'] /1024).astype(int)\n",
    "\n",
    "print(df_plans['gb_per_month_included'])"
   ]
  },
  {
   "cell_type": "markdown",
   "metadata": {
    "id": "YJg2O9qjuj8g"
   },
   "source": [
    "### 3.2. Users Table (`df_users`)\n",
    "\n",
    "Checking for missing values in `churn_date` and creating a flag for active users."
   ]
  },
  {
   "cell_type": "code",
   "execution_count": 6,
   "metadata": {
    "id": "7JzxwD2juj8g"
   },
   "outputs": [
    {
     "name": "stdout",
     "output_type": "stream",
     "text": [
      "<class 'pandas.core.frame.DataFrame'>\n",
      "RangeIndex: 500 entries, 0 to 499\n",
      "Data columns (total 8 columns):\n",
      " #   Column      Non-Null Count  Dtype \n",
      "---  ------      --------------  ----- \n",
      " 0   user_id     500 non-null    int64 \n",
      " 1   first_name  500 non-null    object\n",
      " 2   last_name   500 non-null    object\n",
      " 3   age         500 non-null    int64 \n",
      " 4   city        500 non-null    object\n",
      " 5   reg_date    500 non-null    object\n",
      " 6   plan        500 non-null    object\n",
      " 7   churn_date  34 non-null     object\n",
      "dtypes: int64(2), object(6)\n",
      "memory usage: 31.4+ KB\n"
     ]
    }
   ],
   "source": [
    "df_users.info()"
   ]
  },
  {
   "cell_type": "code",
   "execution_count": 7,
   "metadata": {
    "id": "5KZ8XmD8uj8g"
   },
   "outputs": [
    {
     "name": "stdout",
     "output_type": "stream",
     "text": [
      "     user_id first_name   last_name  age  \\\n",
      "96      1096       Song       Cline   28   \n",
      "43      1043     Carlos      Hinton   42   \n",
      "10      1010     Wilber       Blair   52   \n",
      "193     1193   Lacresha       Olsen   18   \n",
      "351     1351       Kyle      Grimes   47   \n",
      "209     1209     Garret        Paul   63   \n",
      "491     1491     Terina      Jensen   22   \n",
      "22      1022         Bo        Snow   73   \n",
      "58      1058   Reinaldo       Colon   59   \n",
      "222     1222       Cleo    Anderson   18   \n",
      "473     1473       Kirk       Velez   61   \n",
      "251     1251     Tifany       Mcgee   45   \n",
      "163     1163      Lanie  Washington   27   \n",
      "403     1403        Jae     Gardner   27   \n",
      "83      1083     Lyndia     Acevedo   65   \n",
      "\n",
      "                                                 city    reg_date      plan  \\\n",
      "96          New York-Newark-Jersey City, NY-NJ-PA MSA  2018-12-22  ultimate   \n",
      "43          New York-Newark-Jersey City, NY-NJ-PA MSA  2018-06-20  ultimate   \n",
      "10                Dallas-Fort Worth-Arlington, TX MSA  2018-03-09      surf   \n",
      "193          Houston-The Woodlands-Sugar Land, TX MSA  2018-07-07      surf   \n",
      "351                 San Antonio-New Braunfels, TX MSA  2018-09-05  ultimate   \n",
      "209            Los Angeles-Long Beach-Anaheim, CA MSA  2018-08-28      surf   \n",
      "491                     Grand Rapids-Kentwood, MI MSA  2018-04-27      surf   \n",
      "22          New York-Newark-Jersey City, NY-NJ-PA MSA  2018-04-20      surf   \n",
      "58             Los Angeles-Long Beach-Anaheim, CA MSA  2018-11-06      surf   \n",
      "222            Los Angeles-Long Beach-Anaheim, CA MSA  2018-06-27      surf   \n",
      "473            Louisville/Jefferson County, KY-IN MSA  2018-12-31      surf   \n",
      "251         New York-Newark-Jersey City, NY-NJ-PA MSA  2018-01-01      surf   \n",
      "163            Los Angeles-Long Beach-Anaheim, CA MSA  2018-01-12  ultimate   \n",
      "403  Washington-Arlington-Alexandria, DC-VA-MD-WV MSA  2018-02-06  ultimate   \n",
      "83             Los Angeles-Long Beach-Anaheim, CA MSA  2018-10-26      surf   \n",
      "\n",
      "     churn_date  \n",
      "96          NaN  \n",
      "43          NaN  \n",
      "10          NaN  \n",
      "193         NaN  \n",
      "351         NaN  \n",
      "209         NaN  \n",
      "491  2018-09-18  \n",
      "22   2018-09-07  \n",
      "58          NaN  \n",
      "222         NaN  \n",
      "473         NaN  \n",
      "251         NaN  \n",
      "163         NaN  \n",
      "403         NaN  \n",
      "83   2018-12-18  \n"
     ]
    }
   ],
   "source": [
    "print(df_users.sample(15))"
   ]
  },
  {
   "cell_type": "markdown",
   "metadata": {
    "id": "XGCgkfLvuj8h"
   },
   "source": [
    "#### Initial Observations (Users)\n",
    "\n",
    "The NaNs in `churn_date` indicate users who were still active. I'll create a boolean flag, `is_active`, to easily filter this group later."
   ]
  },
  {
   "cell_type": "markdown",
   "metadata": {
    "id": "ppiEfe3luj8i"
   },
   "source": [
    "#### Correcting Data in Users Table"
   ]
  },
  {
   "cell_type": "code",
   "execution_count": 8,
   "metadata": {
    "id": "Oa1XFooouj8j"
   },
   "outputs": [
    {
     "name": "stdout",
     "output_type": "stream",
     "text": [
      "0      True\n",
      "1      True\n",
      "2      True\n",
      "3      True\n",
      "4      True\n",
      "       ... \n",
      "495    True\n",
      "496    True\n",
      "497    True\n",
      "498    True\n",
      "499    True\n",
      "Name: is_active, Length: 500, dtype: bool\n"
     ]
    }
   ],
   "source": [
    "df_users['is_active'] = df_users['churn_date'].isna()\n",
    "\n",
    "print(df_users['is_active'])"
   ]
  },
  {
   "cell_type": "code",
   "execution_count": 9,
   "metadata": {
    "id": "4vuUjT2juj8j"
   },
   "outputs": [
    {
     "data": {
      "text/plain": [
       "['user_id',\n",
       " 'first_name',\n",
       " 'last_name',\n",
       " 'age',\n",
       " 'city',\n",
       " 'reg_date',\n",
       " 'plan',\n",
       " 'churn_date',\n",
       " 'is_active']"
      ]
     },
     "execution_count": 9,
     "metadata": {},
     "output_type": "execute_result"
    }
   ],
   "source": [
    "[col.strip().lower() for col in df_users.columns] # Quick check on column names\n"
   ]
  },
  {
   "cell_type": "markdown",
   "metadata": {
    "id": "f4uSIMuuuj8j"
   },
   "source": [
    "### 3.3. Calls Table (`df_calls`)\n",
    "\n",
    "The main issue here is applying Megaline's billing rule: call durations must be rounded up to the next minute. I also need to extract the month for monthly usage aggregation."
   ]
  },
  {
   "cell_type": "code",
   "execution_count": 10,
   "metadata": {
    "id": "hkY01fJnuj8j"
   },
   "outputs": [
    {
     "name": "stdout",
     "output_type": "stream",
     "text": [
      "<class 'pandas.core.frame.DataFrame'>\n",
      "RangeIndex: 137735 entries, 0 to 137734\n",
      "Data columns (total 4 columns):\n",
      " #   Column     Non-Null Count   Dtype  \n",
      "---  ------     --------------   -----  \n",
      " 0   id         137735 non-null  object \n",
      " 1   user_id    137735 non-null  int64  \n",
      " 2   call_date  137735 non-null  object \n",
      " 3   duration   137735 non-null  float64\n",
      "dtypes: float64(1), int64(1), object(2)\n",
      "memory usage: 4.2+ MB\n"
     ]
    }
   ],
   "source": [
    "df_calls.info()"
   ]
  },
  {
   "cell_type": "code",
   "execution_count": 11,
   "metadata": {
    "id": "wdBwJG5Yuj8k"
   },
   "outputs": [
    {
     "data": {
      "text/html": [
       "<div>\n",
       "<style scoped>\n",
       "    .dataframe tbody tr th:only-of-type {\n",
       "        vertical-align: middle;\n",
       "    }\n",
       "\n",
       "    .dataframe tbody tr th {\n",
       "        vertical-align: top;\n",
       "    }\n",
       "\n",
       "    .dataframe thead th {\n",
       "        text-align: right;\n",
       "    }\n",
       "</style>\n",
       "<table border=\"1\" class=\"dataframe\">\n",
       "  <thead>\n",
       "    <tr style=\"text-align: right;\">\n",
       "      <th></th>\n",
       "      <th>id</th>\n",
       "      <th>user_id</th>\n",
       "      <th>call_date</th>\n",
       "      <th>duration</th>\n",
       "    </tr>\n",
       "  </thead>\n",
       "  <tbody>\n",
       "    <tr>\n",
       "      <th>106889</th>\n",
       "      <td>1379_87</td>\n",
       "      <td>1379</td>\n",
       "      <td>2018-12-27</td>\n",
       "      <td>2.39</td>\n",
       "    </tr>\n",
       "    <tr>\n",
       "      <th>102363</th>\n",
       "      <td>1362_1140</td>\n",
       "      <td>1362</td>\n",
       "      <td>2018-02-23</td>\n",
       "      <td>6.23</td>\n",
       "    </tr>\n",
       "    <tr>\n",
       "      <th>93956</th>\n",
       "      <td>1335_186</td>\n",
       "      <td>1335</td>\n",
       "      <td>2018-11-23</td>\n",
       "      <td>15.26</td>\n",
       "    </tr>\n",
       "    <tr>\n",
       "      <th>39350</th>\n",
       "      <td>1147_74</td>\n",
       "      <td>1147</td>\n",
       "      <td>2018-12-10</td>\n",
       "      <td>14.93</td>\n",
       "    </tr>\n",
       "    <tr>\n",
       "      <th>94416</th>\n",
       "      <td>1336_276</td>\n",
       "      <td>1336</td>\n",
       "      <td>2018-11-02</td>\n",
       "      <td>10.26</td>\n",
       "    </tr>\n",
       "    <tr>\n",
       "      <th>35744</th>\n",
       "      <td>1133_425</td>\n",
       "      <td>1133</td>\n",
       "      <td>2018-12-23</td>\n",
       "      <td>6.60</td>\n",
       "    </tr>\n",
       "    <tr>\n",
       "      <th>135449</th>\n",
       "      <td>1491_341</td>\n",
       "      <td>1491</td>\n",
       "      <td>2018-10-26</td>\n",
       "      <td>0.00</td>\n",
       "    </tr>\n",
       "    <tr>\n",
       "      <th>103042</th>\n",
       "      <td>1365_238</td>\n",
       "      <td>1365</td>\n",
       "      <td>2018-10-29</td>\n",
       "      <td>5.57</td>\n",
       "    </tr>\n",
       "    <tr>\n",
       "      <th>101291</th>\n",
       "      <td>1362_26</td>\n",
       "      <td>1362</td>\n",
       "      <td>2018-12-03</td>\n",
       "      <td>4.56</td>\n",
       "    </tr>\n",
       "    <tr>\n",
       "      <th>34814</th>\n",
       "      <td>1132_94</td>\n",
       "      <td>1132</td>\n",
       "      <td>2018-04-19</td>\n",
       "      <td>6.05</td>\n",
       "    </tr>\n",
       "    <tr>\n",
       "      <th>103923</th>\n",
       "      <td>1366_132</td>\n",
       "      <td>1366</td>\n",
       "      <td>2018-12-16</td>\n",
       "      <td>2.76</td>\n",
       "    </tr>\n",
       "    <tr>\n",
       "      <th>130290</th>\n",
       "      <td>1468_8</td>\n",
       "      <td>1468</td>\n",
       "      <td>2018-10-14</td>\n",
       "      <td>9.35</td>\n",
       "    </tr>\n",
       "    <tr>\n",
       "      <th>82960</th>\n",
       "      <td>1300_16</td>\n",
       "      <td>1300</td>\n",
       "      <td>2018-10-28</td>\n",
       "      <td>3.82</td>\n",
       "    </tr>\n",
       "    <tr>\n",
       "      <th>130579</th>\n",
       "      <td>1470_28</td>\n",
       "      <td>1470</td>\n",
       "      <td>2018-08-13</td>\n",
       "      <td>6.02</td>\n",
       "    </tr>\n",
       "    <tr>\n",
       "      <th>87216</th>\n",
       "      <td>1320_885</td>\n",
       "      <td>1320</td>\n",
       "      <td>2018-07-22</td>\n",
       "      <td>5.45</td>\n",
       "    </tr>\n",
       "  </tbody>\n",
       "</table>\n",
       "</div>"
      ],
      "text/plain": [
       "               id  user_id   call_date  duration\n",
       "106889    1379_87     1379  2018-12-27      2.39\n",
       "102363  1362_1140     1362  2018-02-23      6.23\n",
       "93956    1335_186     1335  2018-11-23     15.26\n",
       "39350     1147_74     1147  2018-12-10     14.93\n",
       "94416    1336_276     1336  2018-11-02     10.26\n",
       "35744    1133_425     1133  2018-12-23      6.60\n",
       "135449   1491_341     1491  2018-10-26      0.00\n",
       "103042   1365_238     1365  2018-10-29      5.57\n",
       "101291    1362_26     1362  2018-12-03      4.56\n",
       "34814     1132_94     1132  2018-04-19      6.05\n",
       "103923   1366_132     1366  2018-12-16      2.76\n",
       "130290     1468_8     1468  2018-10-14      9.35\n",
       "82960     1300_16     1300  2018-10-28      3.82\n",
       "130579    1470_28     1470  2018-08-13      6.02\n",
       "87216    1320_885     1320  2018-07-22      5.45"
      ]
     },
     "execution_count": 11,
     "metadata": {},
     "output_type": "execute_result"
    }
   ],
   "source": [
    "df_calls.sample(15)"
   ]
  },
  {
   "cell_type": "markdown",
   "metadata": {
    "id": "Y8An85-Tuj8k"
   },
   "source": [
    "#### Correcting Data in Calls Table\n",
    "\n",
    "Applying rounding and converting the `call_date` to extract monthly data."
   ]
  },
  {
   "cell_type": "code",
   "execution_count": 12,
   "metadata": {
    "id": "lBjdw0Bnuj8l"
   },
   "outputs": [
    {
     "name": "stdout",
     "output_type": "stream",
     "text": [
      "         id  user_id  call_date  duration  c_year  c_month  c_day\n",
      "0   1000_93     1000 2018-12-27         9    2018       12     27\n",
      "1  1000_145     1000 2018-12-27        14    2018       12     27\n",
      "2  1000_247     1000 2018-12-27        15    2018       12     27\n",
      "3  1000_309     1000 2018-12-28         6    2018       12     28\n",
      "4  1000_380     1000 2018-12-30         5    2018       12     30\n"
     ]
    }
   ],
   "source": [
    "# Round up call duration to the nearest minute and convert to integer\n",
    "df_calls['duration'] = np.ceil(df_calls['duration']).astype(int)\n",
    "\n",
    "# Convert to datetime and extract components\n",
    "df_calls['call_date'] = pd.to_datetime(df_calls['call_date'])\n",
    "df_calls['c_year'] = df_calls['call_date'].dt.year\n",
    "df_calls['c_month'] = df_calls['call_date'].dt.month\n",
    "df_calls['c_day'] = df_calls['call_date'].dt.day \n",
    "\n",
    "print(df_calls.head())"
   ]
  },
  {
   "cell_type": "markdown",
   "metadata": {
    "id": "qLz4FkyRuj8l"
   },
   "source": [
    "### 3.4. Messages Table (`df_messages`)\n",
    "\n",
    "Converting the `message_date` to datetime to extract the month for aggregation."
   ]
  },
  {
   "cell_type": "code",
   "execution_count": 13,
   "metadata": {
    "id": "nFA9DFkCuj8l"
   },
   "outputs": [
    {
     "name": "stdout",
     "output_type": "stream",
     "text": [
      "<class 'pandas.core.frame.DataFrame'>\n",
      "RangeIndex: 76051 entries, 0 to 76050\n",
      "Data columns (total 3 columns):\n",
      " #   Column        Non-Null Count  Dtype \n",
      "---  ------        --------------  ----- \n",
      " 0   id            76051 non-null  object\n",
      " 1   user_id       76051 non-null  int64 \n",
      " 2   message_date  76051 non-null  object\n",
      "dtypes: int64(1), object(2)\n",
      "memory usage: 1.7+ MB\n"
     ]
    }
   ],
   "source": [
    "df_messages.info()"
   ]
  },
  {
   "cell_type": "code",
   "execution_count": 14,
   "metadata": {
    "id": "ysEFBZWxuj8m"
   },
   "outputs": [
    {
     "data": {
      "text/html": [
       "<div>\n",
       "<style scoped>\n",
       "    .dataframe tbody tr th:only-of-type {\n",
       "        vertical-align: middle;\n",
       "    }\n",
       "\n",
       "    .dataframe tbody tr th {\n",
       "        vertical-align: top;\n",
       "    }\n",
       "\n",
       "    .dataframe thead th {\n",
       "        text-align: right;\n",
       "    }\n",
       "</style>\n",
       "<table border=\"1\" class=\"dataframe\">\n",
       "  <thead>\n",
       "    <tr style=\"text-align: right;\">\n",
       "      <th></th>\n",
       "      <th>id</th>\n",
       "      <th>user_id</th>\n",
       "      <th>message_date</th>\n",
       "      <th>m_year</th>\n",
       "      <th>m_month</th>\n",
       "      <th>m_day</th>\n",
       "    </tr>\n",
       "  </thead>\n",
       "  <tbody>\n",
       "    <tr>\n",
       "      <th>27579</th>\n",
       "      <td>1172_36</td>\n",
       "      <td>1172</td>\n",
       "      <td>2018-09-30</td>\n",
       "      <td>2018</td>\n",
       "      <td>9</td>\n",
       "      <td>30</td>\n",
       "    </tr>\n",
       "    <tr>\n",
       "      <th>58223</th>\n",
       "      <td>1369_24</td>\n",
       "      <td>1369</td>\n",
       "      <td>2018-12-13</td>\n",
       "      <td>2018</td>\n",
       "      <td>12</td>\n",
       "      <td>13</td>\n",
       "    </tr>\n",
       "    <tr>\n",
       "      <th>43724</th>\n",
       "      <td>1291_27</td>\n",
       "      <td>1291</td>\n",
       "      <td>2018-10-31</td>\n",
       "      <td>2018</td>\n",
       "      <td>10</td>\n",
       "      <td>31</td>\n",
       "    </tr>\n",
       "    <tr>\n",
       "      <th>41602</th>\n",
       "      <td>1267_113</td>\n",
       "      <td>1267</td>\n",
       "      <td>2018-12-02</td>\n",
       "      <td>2018</td>\n",
       "      <td>12</td>\n",
       "      <td>2</td>\n",
       "    </tr>\n",
       "    <tr>\n",
       "      <th>42570</th>\n",
       "      <td>1280_54</td>\n",
       "      <td>1280</td>\n",
       "      <td>2018-07-20</td>\n",
       "      <td>2018</td>\n",
       "      <td>7</td>\n",
       "      <td>20</td>\n",
       "    </tr>\n",
       "    <tr>\n",
       "      <th>50299</th>\n",
       "      <td>1329_46</td>\n",
       "      <td>1329</td>\n",
       "      <td>2018-09-03</td>\n",
       "      <td>2018</td>\n",
       "      <td>9</td>\n",
       "      <td>3</td>\n",
       "    </tr>\n",
       "    <tr>\n",
       "      <th>16110</th>\n",
       "      <td>1110_1</td>\n",
       "      <td>1110</td>\n",
       "      <td>2018-08-14</td>\n",
       "      <td>2018</td>\n",
       "      <td>8</td>\n",
       "      <td>14</td>\n",
       "    </tr>\n",
       "    <tr>\n",
       "      <th>31649</th>\n",
       "      <td>1196_132</td>\n",
       "      <td>1196</td>\n",
       "      <td>2018-02-23</td>\n",
       "      <td>2018</td>\n",
       "      <td>2</td>\n",
       "      <td>23</td>\n",
       "    </tr>\n",
       "    <tr>\n",
       "      <th>45067</th>\n",
       "      <td>1302_172</td>\n",
       "      <td>1302</td>\n",
       "      <td>2018-11-28</td>\n",
       "      <td>2018</td>\n",
       "      <td>11</td>\n",
       "      <td>28</td>\n",
       "    </tr>\n",
       "    <tr>\n",
       "      <th>59899</th>\n",
       "      <td>1381_12</td>\n",
       "      <td>1381</td>\n",
       "      <td>2018-10-06</td>\n",
       "      <td>2018</td>\n",
       "      <td>10</td>\n",
       "      <td>6</td>\n",
       "    </tr>\n",
       "    <tr>\n",
       "      <th>30554</th>\n",
       "      <td>1193_123</td>\n",
       "      <td>1193</td>\n",
       "      <td>2018-08-01</td>\n",
       "      <td>2018</td>\n",
       "      <td>8</td>\n",
       "      <td>1</td>\n",
       "    </tr>\n",
       "    <tr>\n",
       "      <th>317</th>\n",
       "      <td>1003_11</td>\n",
       "      <td>1003</td>\n",
       "      <td>2018-12-28</td>\n",
       "      <td>2018</td>\n",
       "      <td>12</td>\n",
       "      <td>28</td>\n",
       "    </tr>\n",
       "    <tr>\n",
       "      <th>11014</th>\n",
       "      <td>1077_285</td>\n",
       "      <td>1077</td>\n",
       "      <td>2018-01-18</td>\n",
       "      <td>2018</td>\n",
       "      <td>1</td>\n",
       "      <td>18</td>\n",
       "    </tr>\n",
       "    <tr>\n",
       "      <th>35930</th>\n",
       "      <td>1236_214</td>\n",
       "      <td>1236</td>\n",
       "      <td>2018-04-16</td>\n",
       "      <td>2018</td>\n",
       "      <td>4</td>\n",
       "      <td>16</td>\n",
       "    </tr>\n",
       "    <tr>\n",
       "      <th>36420</th>\n",
       "      <td>1242_92</td>\n",
       "      <td>1242</td>\n",
       "      <td>2018-10-30</td>\n",
       "      <td>2018</td>\n",
       "      <td>10</td>\n",
       "      <td>30</td>\n",
       "    </tr>\n",
       "  </tbody>\n",
       "</table>\n",
       "</div>"
      ],
      "text/plain": [
       "             id  user_id message_date  m_year  m_month  m_day\n",
       "27579   1172_36     1172   2018-09-30    2018        9     30\n",
       "58223   1369_24     1369   2018-12-13    2018       12     13\n",
       "43724   1291_27     1291   2018-10-31    2018       10     31\n",
       "41602  1267_113     1267   2018-12-02    2018       12      2\n",
       "42570   1280_54     1280   2018-07-20    2018        7     20\n",
       "50299   1329_46     1329   2018-09-03    2018        9      3\n",
       "16110    1110_1     1110   2018-08-14    2018        8     14\n",
       "31649  1196_132     1196   2018-02-23    2018        2     23\n",
       "45067  1302_172     1302   2018-11-28    2018       11     28\n",
       "59899   1381_12     1381   2018-10-06    2018       10      6\n",
       "30554  1193_123     1193   2018-08-01    2018        8      1\n",
       "317     1003_11     1003   2018-12-28    2018       12     28\n",
       "11014  1077_285     1077   2018-01-18    2018        1     18\n",
       "35930  1236_214     1236   2018-04-16    2018        4     16\n",
       "36420   1242_92     1242   2018-10-30    2018       10     30"
      ]
     },
     "execution_count": 14,
     "metadata": {},
     "output_type": "execute_result"
    }
   ],
   "source": [
    "df_messages['message_date'] = pd.to_datetime(df_messages['message_date'])\n",
    "\n",
    "df_messages['m_year'] = df_messages['message_date'].dt.year\n",
    "df_messages['m_month'] = df_messages['message_date'].dt.month\n",
    "df_messages['m_day'] = df_messages['message_date'].dt.day \n",
    "\n",
    "df_messages.sample(15)"
   ]
  }
 ],
 "metadata": {
  "kernelspec": {
   "display_name": "base",
   "language": "python",
   "name": "python3"
  },
  "language_info": {
   "codemirror_mode": {
    "name": "ipython",
    "version": 3
   },
   "file_extension": ".py",
   "mimetype": "text/x-python",
   "name": "python",
   "nbconvert_exporter": "python",
   "pygments_lexer": "ipython3",
   "version": "3.12.4"
  }
 },
 "nbformat": 4,
 "nbformat_minor": 4
}
